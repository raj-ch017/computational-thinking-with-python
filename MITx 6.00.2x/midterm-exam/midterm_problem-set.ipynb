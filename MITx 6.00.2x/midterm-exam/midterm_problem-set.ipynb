{
 "cells": [
  {
   "cell_type": "markdown",
   "id": "836f7748",
   "metadata": {},
   "source": [
    "<h1>\n",
    "<center> Mid-term Exam </center>\n",
    "</h1>\n",
    "\n",
    "---\n",
    "\n",
    "<h2>\n",
    "<center> Problem 1 </center>\n",
    "</h2>\n",
    "\n",
    "You are creating a song playlist for your next party. You have a collection of songs that can be represented as a list of tuples. Each tuple has the following elements:\n",
    "\n",
    "- name: the first element, representing the song name (non-empty string)\n",
    "- song_length: the second, element representing the song duration (float >= 0)\n",
    "- song_size: the third, element representing the size on disk (float >= 0)\n",
    "\n",
    "You want to try to optimize your playlist to play songs for as long as possible while making sure that the songs you pick do not take up more than a given amount of space on disk (the sizes should be less than or equal to the max_disk_size).\n",
    "\n",
    "You decide the best way to achieve your goal is to start with the first song in the given song list. If the first song doesn't fit on disk, return an empty list. If there is enough space for this song, add it to the playlist.\n",
    "\n",
    "For subsequent songs, you choose the next song such that its size on disk is smallest and that the song hasn't already been chosen. You do this until you cannot fit any more songs on the disk.\n",
    "\n",
    "Write a function implementing this algorithm, that returns a list of the song names in the order in which they were chosen, with the first element in the list being the song chosen first. Assume song names are unique and all the songs have different sizes on disk and different durations.\n",
    "\n",
    "You may not mutate any of the arguments.\n",
    "\n",
    "**For example,**\n",
    "\n",
    "- If songs = [('Roar',4.4, 4.0),('Sail',3.5, 7.7),('Timber', 5.1, 6.9),('Wannabe',2.7, 1.2)] and max_size = 12.2, the function will return ['Roar','Wannabe','Timber']\n",
    "- If songs = [('Roar',4.4, 4.0),('Sail',3.5, 7.7),('Timber', 5.1, 6.9),('Wannabe',2.7, 1.2)] and max_size = 11, the function will return ['Roar','Wannabe']"
   ]
  },
  {
   "cell_type": "code",
   "execution_count": 2,
   "id": "f36e4e85",
   "metadata": {},
   "outputs": [],
   "source": [
    "def song_playlist(songs, max_size):\n",
    "    \"\"\"\n",
    "    songs: list of tuples, ('song_name', song_len, song_size)\n",
    "    max_size: float, maximum size of total songs that you can fit\n",
    "\n",
    "    Start with the song first in the 'songs' list, then pick the next \n",
    "    song to be the one with the lowest file size not already picked, repeat\n",
    "\n",
    "    Returns: a list of a subset of songs fitting in 'max_size' in the order \n",
    "             in which they were chosen.\n",
    "    \"\"\"\n",
    "    size=max_size\n",
    "    l=len(songs)\n",
    "    songDict={}\n",
    "    bestSongs=[]\n",
    "    for i in range(1,l):\n",
    "        if songs[i][0] not in songDict:\n",
    "            songDict[songs[i][0]]=songs[i][2]\n",
    "            #bestSongs[songs[i][0]]=songs[i][1]/songs[i][2]\n",
    "    #bestSongs=sorted(bestSongs,key=bestSongs.get,reverse=True)\n",
    "    bestSongs=sorted(songDict,key=songDict.get)\n",
    "    def greedySong(bestSongs,size):\n",
    "        playlist=[]\n",
    "        if size<1 or bestSongs==[]:\n",
    "            return \"\"\n",
    "        if songDict[bestSongs[0]]>size:\n",
    "           return greedySong(bestSongs[1:],size)\n",
    "        else :\n",
    "           playlist=bestSongs[0]\n",
    "           size-=songDict[bestSongs[0]]\n",
    "           song=greedySong(bestSongs[1:],size)\n",
    "           if (song ==\"\"):\n",
    "              return playlist\n",
    "           else:\n",
    "            if type(song)==list:\n",
    "                song.insert(0,playlist)\n",
    "                playlist=song\n",
    "            else:\n",
    "              lst=[]\n",
    "              lst.append(playlist)\n",
    "              lst.append(song)\n",
    "              playlist=lst\n",
    "        return playlist\n",
    "\n",
    "    if songs[0][2]>max_size:\n",
    "        return []\n",
    "    else:\n",
    "        playlist=[songs[0][0]]\n",
    "        size-=songs[0][2]\n",
    "        song_playlist= greedySong(bestSongs,size)\n",
    "        if type(song_playlist)!=list and song_playlist!='':\n",
    "            playlist.append(song_playlist)\n",
    "        else:\n",
    "           for s in song_playlist:\n",
    "              playlist.append(s)\n",
    "        return playlist"
   ]
  },
  {
   "cell_type": "code",
   "execution_count": 14,
   "id": "ab6c5f75",
   "metadata": {},
   "outputs": [
    {
     "name": "stdout",
     "output_type": "stream",
     "text": [
      "['a', 'd', 'c', 'b']\n",
      "['a', 'd', 'c']\n",
      "['a', 'd']\n",
      "['a', 'd', 'b', 'c']\n",
      "['a', 'd', 'b']\n",
      "['a']\n",
      "[]\n",
      "[]\n",
      "['z']\n",
      "['z', 'd', 'a']\n"
     ]
    }
   ],
   "source": [
    "# Test 1\n",
    "print(song_playlist([('a', 4.4, 4.0), ('b', 3.5, 7.7), ('c', 5.1, 6.9), ('d', 2.7, 1.2)], 20))\n",
    "\n",
    "# Test 2\n",
    "print(song_playlist([('a', 4.4, 4.0), ('b', 3.5, 7.7), ('c', 5.1, 6.9), ('d', 2.7, 1.2)], 12.2))\n",
    "\n",
    "# Test 3\n",
    "print(song_playlist([('a', 4.4, 4.0), ('b', 3.5, 7.7), ('c', 5.1, 6.9), ('d', 2.7, 1.2)], 11))\n",
    "\n",
    "# Test 4\n",
    "print(song_playlist([('a', 4.0, 4.4), ('b', 7.7, 3.5), ('c', 6.9, 5.1), ('d', 1.2, 2.7)], 20))\n",
    "\n",
    "# Test 5\n",
    "print(song_playlist([('a', 4.0, 4.4), ('b', 7.7, 3.5), ('c', 6.9, 5.1), ('d', 1.2, 2.7)], 12.3))\n",
    "\n",
    "# Test 6\n",
    "print(song_playlist([('a', 1.4, 4.0)], 20))\n",
    "\n",
    "# Test 7\n",
    "print(song_playlist([('aa', 4, 4), ('bb', 5, 7), ('cc', 5, 6), ('dd', 2, 1)], 1))\n",
    "\n",
    "# Test 8\n",
    "print(song_playlist([('aa', 4, 4), ('bb', 5, 7), ('cc', 5, 6), ('dd', 2, 1)], 3))\n",
    "\n",
    "# Test 9\n",
    "print(song_playlist([('z', 0.1, 0.1), ('a', 4.4, 4.0), ('b', 3.5, 7.7), ('c', 5.1, 6.9), ('d', 2.7, 1.2)], 1))\n",
    "\n",
    "# Test 10\n",
    "print(song_playlist([('z', 0.1, 0.1), ('a', 4.4, 4.0), ('b', 3.5, 7.7), ('c', 5.1, 6.9), ('d', 2.7, 1.2)], 5.4))"
   ]
  },
  {
   "cell_type": "markdown",
   "id": "bac6cb64",
   "metadata": {},
   "source": [
    "<h2>\n",
    "<center> Problem 2 </center>\n",
    "</h2>\n",
    "\n",
    "---\n",
    "\n",
    "Write a function that meets the following specification. Hint: there exists a greedy algorithm that provides an optimal solution to this problem.\n",
    "\n",
    "\n"
   ]
  },
  {
   "cell_type": "code",
   "execution_count": 15,
   "id": "db7d8276",
   "metadata": {},
   "outputs": [],
   "source": [
    "def solve(s):\n",
    "    \"\"\" \n",
    "    s: positive integer, what the sum should add up to\n",
    "    Solves the following optimization problem:\n",
    "        x1 + x2 + x3 + x4 is minimized \n",
    "        subject to the constraint x1*25 + x2*10 + x3*5 + x4 = s\n",
    "        and that x1, x2, x3, x4 are non-negative integers.\n",
    "    Returns a list of the coefficients x1, x2, x3, x4 in that order\n",
    "    \"\"\""
   ]
  },
  {
   "cell_type": "code",
   "execution_count": 16,
   "id": "ca5bb41c",
   "metadata": {},
   "outputs": [],
   "source": [
    "def solve(s):\n",
    "\n",
    "    coeflist=[25,10,5,1]\n",
    "    c=0\n",
    "    def greedySum(s,coeflist,c):\n",
    "        if s<=0:\n",
    "            return [0]\n",
    "        if c>4:\n",
    "            return -1\n",
    "        Coefficients=[]\n",
    "        Xss=list(range(s//coeflist[c]+1))\n",
    "        Coefficients.append(Xss[-1])\n",
    "        s-=Xss[-1] * coeflist[c]\n",
    "        c+=1\n",
    "        if s==0:\n",
    "            return Coefficients+[0]*(4-c)\n",
    "        return Coefficients+greedySum(s,coeflist,c)\n",
    "    return greedySum(s,coeflist,c)\n"
   ]
  },
  {
   "cell_type": "code",
   "execution_count": 22,
   "id": "9d0663ea",
   "metadata": {},
   "outputs": [
    {
     "name": "stdout",
     "output_type": "stream",
     "text": [
      "[0, 0, 0, 1]\n",
      "[0, 0, 1, 0]\n",
      "[0, 1, 0, 0]\n",
      "[1, 0, 0, 0]\n",
      "[0, 0, 0, 4]\n",
      "[0, 2, 0, 0]\n",
      "[2, 0, 0, 0]\n",
      "[0, 1, 1, 0]\n",
      "[1, 1, 0, 0]\n",
      "[1, 0, 0, 1]\n",
      "[1, 0, 0, 2]\n",
      "[3, 2, 0, 4]\n",
      "[4, 0, 0, 0]\n"
     ]
    }
   ],
   "source": [
    "# Test 1\n",
    "print(solve(1))\n",
    "\n",
    "# Test 2 \n",
    "print(solve(5))\n",
    "\n",
    "# Test 3\n",
    "print(solve(10))\n",
    "\n",
    "# Test 4\n",
    "print(solve(25))\n",
    "\n",
    "# Test 5\n",
    "print(solve(4))\n",
    "\n",
    "# Test 6\n",
    "print(solve(20))\n",
    "\n",
    "# Test 7\n",
    "print(solve(50))\n",
    "\n",
    "# Test 8\n",
    "print(solve(15))\n",
    "\n",
    "# Test 9\n",
    "print(solve(35))\n",
    "\n",
    "# Test 10\n",
    "print(solve(26))\n",
    "\n",
    "# Test 11\n",
    "print(solve(27))\n",
    "\n",
    "# Test 12\n",
    "print(solve(99))\n",
    "\n",
    "# Test 13\n",
    "print(solve(100))"
   ]
  },
  {
   "cell_type": "markdown",
   "id": "77cef266",
   "metadata": {},
   "source": [
    "<h2>\n",
    "<center> Problem 3 </center>\n",
    "</h2>\n",
    "\n",
    "---\n",
    "\n",
    "Write a function that meets the following specification. Hint: there exists a greedy algorithm that provides an optimal solution to this problem.\n",
    "\n",
    "\n"
   ]
  },
  {
   "cell_type": "code",
   "execution_count": null,
   "id": "ae39b7aa",
   "metadata": {},
   "outputs": [
    {
     "name": "stdout",
     "output_type": "stream",
     "text": [
      "None\n",
      "None\n"
     ]
    }
   ],
   "source": [
    "def solveit(test):\n",
    "    \"\"\" test, a function that takes an int parameter and returns a Boolean\n",
    "        Assumes there exists an int, x, such that test(x) is True\n",
    "        Returns an int, x, with the smallest absolute value such that test(x) is True \n",
    "        In case of ties, return any one of them. \n",
    "    \"\"\"\n",
    "    # IMPLEMENT THIS FUNCTION\n",
    "\n"
   ]
  },
  {
   "cell_type": "code",
   "execution_count": 24,
   "id": "a38f5e64",
   "metadata": {},
   "outputs": [],
   "source": [
    "def solveit(test):\n",
    "    \"\"\" test, a function that takes an int parameter and returns a Boolean\n",
    "        Assumes there exists an int, x, such that test(x) is True\n",
    "        Returns an int, x, with the smallest absolute value such that test(x) is True \n",
    "        In case of ties, return any one of them. \n",
    "    \"\"\"\n",
    "    for i in range(1000):\n",
    "        if test(i):\n",
    "            return i\n",
    "    for i in range(1000, -1000, -1):\n",
    "        if test(i):\n",
    "            return i"
   ]
  },
  {
   "cell_type": "code",
   "execution_count": 25,
   "id": "6b885e42",
   "metadata": {},
   "outputs": [
    {
     "name": "stdout",
     "output_type": "stream",
     "text": [
      "49\n",
      "0\n"
     ]
    }
   ],
   "source": [
    "#### This test case prints 49 ####\n",
    "def f(x):\n",
    "    return (x+15)**0.5 + x**0.5 == 15\n",
    "print(solveit(f))\n",
    "\n",
    "#### This test case prints 0 ####\n",
    "def f(x):\n",
    "    return x == 0\n",
    "print(solveit(f))"
   ]
  }
 ],
 "metadata": {
  "kernelspec": {
   "display_name": "base",
   "language": "python",
   "name": "python3"
  },
  "language_info": {
   "codemirror_mode": {
    "name": "ipython",
    "version": 3
   },
   "file_extension": ".py",
   "mimetype": "text/x-python",
   "name": "python",
   "nbconvert_exporter": "python",
   "pygments_lexer": "ipython3",
   "version": "3.9.18"
  }
 },
 "nbformat": 4,
 "nbformat_minor": 5
}
